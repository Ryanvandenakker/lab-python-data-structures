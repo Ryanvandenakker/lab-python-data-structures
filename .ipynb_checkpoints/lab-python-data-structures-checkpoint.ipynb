{
 "cells": [
  {
   "cell_type": "markdown",
   "metadata": {
    "tags": []
   },
   "source": [
    "# Lab | Data Structures "
   ]
  },
  {
   "cell_type": "markdown",
   "metadata": {},
   "source": [
    "## Exercise: Managing Customer Orders\n",
    "\n",
    "As part of a business venture, you are starting an online store that sells various products. To ensure smooth operations, you need to develop a program that manages customer orders and inventory.\n",
    "\n",
    "Follow the steps below to complete the exercise:\n",
    "\n",
    "1. Define a list called `products` that contains the following items: \"t-shirt\", \"mug\", \"hat\", \"book\", \"keychain\".\n",
    "\n",
    "2. Create an empty dictionary called `inventory`.\n",
    "\n",
    "3. Ask the user to input the quantity of each product available in the inventory. Use the product names from the `products` list as keys in the `inventory` dictionary and assign the respective quantities as values.\n",
    "\n",
    "4. Create an empty set called `customer_orders`.\n",
    "\n",
    "5. Ask the user to input the name of three products that a customer wants to order (from those in the products list, meaning three products out of \"t-shirt\", \"mug\", \"hat\", \"book\" or \"keychain\". Add each product name to the `customer_orders` set.\n",
    "\n",
    "6. Print the products in the `customer_orders` set.\n",
    "\n",
    "7. Calculate the following order statistics:\n",
    "   - Total Products Ordered: The total number of products in the `customer_orders` set.\n",
    "   - Percentage of Products Ordered: The percentage of products ordered compared to the total available products.\n",
    "   \n",
    "   Store these statistics in a tuple called `order_status`.\n",
    "\n",
    "8. Print the order statistics using the following format:\n",
    "   ```\n",
    "   Order Statistics:\n",
    "   Total Products Ordered: <total_products_ordered>\n",
    "   Percentage of Products Ordered: <percentage_ordered>% \n",
    "   ```\n",
    "\n",
    "9. Update the inventory by subtracting 1 from the quantity of each product. Modify the `inventory` dictionary accordingly.\n",
    "\n",
    "10. Print the updated inventory, displaying the quantity of each product on separate lines.\n",
    "\n",
    "Solve the exercise by implementing the steps using the Python concepts of lists, dictionaries, sets, and basic input/output operations. "
   ]
  },
  {
   "cell_type": "code",
   "execution_count": null,
   "metadata": {},
   "outputs": [],
   "source": [
    "products = [\"t-shirt\", \"mug\", \"hat\", \"book\", \"keychain\"]\n",
    "inventory = {}\n",
    "\n",
    "tshirt = int(input(\"Enter number of T-shirts available in the inventory: \"))\n",
    "mug = int(input(\"Enter number of mugs available in the inventory: \"))\n",
    "hat = int(input(\"Enter number of hats available in the inventory: \"))\n",
    "book = int(input(\"Enter number of books available in the inventory: \"))\n",
    "keychain = int(input(\"Enter number of key-chains available in the inventory: \"))\n",
    "\n",
    "inventory[\"t-shirt\"] = tshirt\n",
    "inventory[\"mug\"] = mug\n",
    "inventory[\"hat\"] = hat\n",
    "inventory[\"book\"] = book\n",
    "inventory[\"keychain\"] = keychain\n",
    "\n",
    "print(inventory)"
   ]
  },
  {
   "cell_type": "code",
   "execution_count": null,
   "metadata": {},
   "outputs": [],
   "source": [
    "customer_orders = set()\n",
    "\n",
    "input1 = str(input(\"Enter name of product you would like to order: \"))\n",
    "customer_orders.add(input1)\n",
    "\n",
    "input2 = str(input(\"Enter name of another product you would like to order: \"))\n",
    "customer_orders.add(input2)\n",
    "\n",
    "input3 = str(input(\"Enter name of another product you would like to order: \"))\n",
    "customer_orders.add(input3)\n",
    "\n",
    "print(customer_orders)"
   ]
  },
  {
   "cell_type": "code",
   "execution_count": null,
   "metadata": {},
   "outputs": [],
   "source": [
    "#Total Products Ordered\n",
    "total_products_ordered = len(customer_orders)\n",
    "\n",
    "#Percentage of products ordered\n",
    "percentage_products_ordered = (len(customer_orders) / len(products)) * 100\n",
    "\n",
    "#Store these statistics in a tuple called order_status\n",
    "order_status = (total_products_ordered, percentage_products_ordered)\n",
    "\n",
    "print(\"Order Statistics: \")\n",
    "print(\"Total Products Ordered: \", order_status[0])\n",
    "print(\"Percentage of Products Ordered: \", order_status[1])"
   ]
  },
  {
   "cell_type": "code",
   "execution_count": null,
   "metadata": {},
   "outputs": [],
   "source": [
    "#Update the inventory by subtracting 1 from the quantity of each product.\n",
    "\n",
    "for product in inventory:\n",
    "    inventory[product] -= 1\n",
    "\n",
    "for product, quantity in inventory.items():\n",
    "    print(f\"{product}: {quantity}\")"
   ]
  }
 ],
 "metadata": {
  "kernelspec": {
   "display_name": "Python 3 (ipykernel)",
   "language": "python",
   "name": "python3"
  },
  "language_info": {
   "codemirror_mode": {
    "name": "ipython",
    "version": 3
   },
   "file_extension": ".py",
   "mimetype": "text/x-python",
   "name": "python",
   "nbconvert_exporter": "python",
   "pygments_lexer": "ipython3",
   "version": "3.11.7"
  }
 },
 "nbformat": 4,
 "nbformat_minor": 4
}
